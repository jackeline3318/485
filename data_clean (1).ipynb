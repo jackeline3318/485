{
 "cells": [
  {
   "cell_type": "markdown",
   "id": "4c3dd10c",
   "metadata": {},
   "source": [
    "# Cleaning Data\n",
    "\n",
    "**Prerequisites**\n",
    "\n",
    "- [Intro](https://datascience.quantecon.org/intro.html)  \n",
    "- [Boolean selection](https://datascience.quantecon.org/basics.html)  \n",
    "- [Indexing](https://datascience.quantecon.org/the_index.html)  \n",
    "\n",
    "\n",
    "**Outcomes**\n",
    "\n",
    "- Be able to use string methods to clean data that comes as a string  \n",
    "- Be able to drop missing data  \n",
    "- Use cleaning methods to prepare and analyze a real dataset  \n",
    "\n",
    "\n",
    "**Data**\n",
    "\n",
    "- Item information from about 3,000 Chipotle meals from about 1,800\n",
    "  Grubhub orders  "
   ]
  },
  {
   "cell_type": "code",
   "execution_count": 1,
   "id": "6cf3d45f",
   "metadata": {
    "hide-output": false
   },
   "outputs": [
    {
     "name": "stdout",
     "output_type": "stream",
     "text": [
      "Defaulting to user installation because normal site-packages is not writeable\n",
      "Requirement already satisfied: pandas in c:\\programdata\\anaconda3\\lib\\site-packages (1.5.3)\n",
      "Requirement already satisfied: and in c:\\users\\gisse\\appdata\\roaming\\python\\python311\\site-packages (66.0.2)\n",
      "Requirement already satisfied: numpy in c:\\programdata\\anaconda3\\lib\\site-packages (1.24.3)\n",
      "Requirement already satisfied: python-dateutil>=2.8.1 in c:\\programdata\\anaconda3\\lib\\site-packages (from pandas) (2.8.2)\n",
      "Requirement already satisfied: pytz>=2020.1 in c:\\programdata\\anaconda3\\lib\\site-packages (from pandas) (2022.7)\n",
      "Requirement already satisfied: six>=1.5 in c:\\programdata\\anaconda3\\lib\\site-packages (from python-dateutil>=2.8.1->pandas) (1.16.0)\n"
     ]
    }
   ],
   "source": [
    "# Uncomment following line to install on colab\n",
    "! pip install pandas and numpy"
   ]
  },
  {
   "cell_type": "code",
   "execution_count": 2,
   "id": "f5627489",
   "metadata": {
    "hide-output": false
   },
   "outputs": [],
   "source": [
    "import pandas as pd\n",
    "import numpy as np"
   ]
  },
  {
   "cell_type": "markdown",
   "id": "af3c203f",
   "metadata": {},
   "source": [
    "## Cleaning Data\n",
    "\n",
    "For many data projects, a [significant proportion of\n",
    "time](https://www.forbes.com/sites/gilpress/2016/03/23/data-preparation-most-time-consuming-least-enjoyable-data-science-task-survey-says/#74d447456f63)\n",
    "is spent collecting and cleaning the data — not performing the analysis.\n",
    "\n",
    "This non-analysis work is often called “data cleaning”.\n",
    "\n",
    "pandas provides very powerful data cleaning tools, which we\n",
    "will demonstrate using the following dataset."
   ]
  },
  {
   "cell_type": "code",
   "execution_count": 3,
   "id": "89ad7164",
   "metadata": {
    "hide-output": false
   },
   "outputs": [
    {
     "data": {
      "text/html": [
       "<div>\n",
       "<style scoped>\n",
       "    .dataframe tbody tr th:only-of-type {\n",
       "        vertical-align: middle;\n",
       "    }\n",
       "\n",
       "    .dataframe tbody tr th {\n",
       "        vertical-align: top;\n",
       "    }\n",
       "\n",
       "    .dataframe thead th {\n",
       "        text-align: right;\n",
       "    }\n",
       "</style>\n",
       "<table border=\"1\" class=\"dataframe\">\n",
       "  <thead>\n",
       "    <tr style=\"text-align: right;\">\n",
       "      <th></th>\n",
       "      <th>numbers</th>\n",
       "      <th>nums</th>\n",
       "      <th>colors</th>\n",
       "      <th>other_column</th>\n",
       "    </tr>\n",
       "  </thead>\n",
       "  <tbody>\n",
       "    <tr>\n",
       "      <th>0</th>\n",
       "      <td>#23</td>\n",
       "      <td>23</td>\n",
       "      <td>green</td>\n",
       "      <td>0</td>\n",
       "    </tr>\n",
       "    <tr>\n",
       "      <th>1</th>\n",
       "      <td>#24</td>\n",
       "      <td>24</td>\n",
       "      <td>red</td>\n",
       "      <td>1</td>\n",
       "    </tr>\n",
       "    <tr>\n",
       "      <th>2</th>\n",
       "      <td>#18</td>\n",
       "      <td>18</td>\n",
       "      <td>yellow</td>\n",
       "      <td>0</td>\n",
       "    </tr>\n",
       "    <tr>\n",
       "      <th>3</th>\n",
       "      <td>#14</td>\n",
       "      <td>14</td>\n",
       "      <td>orange</td>\n",
       "      <td>2</td>\n",
       "    </tr>\n",
       "    <tr>\n",
       "      <th>4</th>\n",
       "      <td>#12</td>\n",
       "      <td>NaN</td>\n",
       "      <td>purple</td>\n",
       "      <td>1</td>\n",
       "    </tr>\n",
       "    <tr>\n",
       "      <th>5</th>\n",
       "      <td>#10</td>\n",
       "      <td>XYZ</td>\n",
       "      <td>blue</td>\n",
       "      <td>0</td>\n",
       "    </tr>\n",
       "    <tr>\n",
       "      <th>6</th>\n",
       "      <td>#35</td>\n",
       "      <td>35</td>\n",
       "      <td>pink</td>\n",
       "      <td>2</td>\n",
       "    </tr>\n",
       "  </tbody>\n",
       "</table>\n",
       "</div>"
      ],
      "text/plain": [
       "  numbers nums  colors  other_column\n",
       "0     #23   23   green             0\n",
       "1     #24   24     red             1\n",
       "2     #18   18  yellow             0\n",
       "3     #14   14  orange             2\n",
       "4     #12  NaN  purple             1\n",
       "5     #10  XYZ    blue             0\n",
       "6     #35   35    pink             2"
      ]
     },
     "execution_count": 3,
     "metadata": {},
     "output_type": "execute_result"
    }
   ],
   "source": [
    "df = pd.DataFrame({\"numbers\": [\"#23\", \"#24\", \"#18\", \"#14\", \"#12\", \"#10\", \"#35\"],\n",
    "                   \"nums\": [\"23\", \"24\", \"18\", \"14\", np.nan, \"XYZ\", \"35\"],\n",
    "                   \"colors\": [\"green\", \"red\", \"yellow\", \"orange\", \"purple\", \"blue\", \"pink\"],\n",
    "                   \"other_column\": [0, 1, 0, 2, 1, 0, 2]})\n",
    "df"
   ]
  },
  {
   "cell_type": "markdown",
   "id": "a9b158c3",
   "metadata": {},
   "source": [
    "What would happen if we wanted to try and compute the mean of\n",
    "`numbers`?"
   ]
  },
  {
   "cell_type": "code",
   "execution_count": 4,
   "id": "8b3f90f8",
   "metadata": {
    "hide-output": false
   },
   "outputs": [
    {
     "ename": "TypeError",
     "evalue": "Could not convert #23#24#18#14#12#10#35 to numeric",
     "output_type": "error",
     "traceback": [
      "\u001b[1;31m---------------------------------------------------------------------------\u001b[0m",
      "\u001b[1;31mValueError\u001b[0m                                Traceback (most recent call last)",
      "File \u001b[1;32mC:\\ProgramData\\anaconda3\\Lib\\site-packages\\pandas\\core\\nanops.py:1630\u001b[0m, in \u001b[0;36m_ensure_numeric\u001b[1;34m(x)\u001b[0m\n\u001b[0;32m   1629\u001b[0m \u001b[38;5;28;01mtry\u001b[39;00m:\n\u001b[1;32m-> 1630\u001b[0m     x \u001b[38;5;241m=\u001b[39m \u001b[38;5;28mfloat\u001b[39m(x)\n\u001b[0;32m   1631\u001b[0m \u001b[38;5;28;01mexcept\u001b[39;00m (\u001b[38;5;167;01mTypeError\u001b[39;00m, \u001b[38;5;167;01mValueError\u001b[39;00m):\n\u001b[0;32m   1632\u001b[0m     \u001b[38;5;66;03m# e.g. \"1+1j\" or \"foo\"\u001b[39;00m\n",
      "\u001b[1;31mValueError\u001b[0m: could not convert string to float: '#23#24#18#14#12#10#35'",
      "\nDuring handling of the above exception, another exception occurred:\n",
      "\u001b[1;31mValueError\u001b[0m                                Traceback (most recent call last)",
      "File \u001b[1;32mC:\\ProgramData\\anaconda3\\Lib\\site-packages\\pandas\\core\\nanops.py:1634\u001b[0m, in \u001b[0;36m_ensure_numeric\u001b[1;34m(x)\u001b[0m\n\u001b[0;32m   1633\u001b[0m \u001b[38;5;28;01mtry\u001b[39;00m:\n\u001b[1;32m-> 1634\u001b[0m     x \u001b[38;5;241m=\u001b[39m \u001b[38;5;28mcomplex\u001b[39m(x)\n\u001b[0;32m   1635\u001b[0m \u001b[38;5;28;01mexcept\u001b[39;00m \u001b[38;5;167;01mValueError\u001b[39;00m \u001b[38;5;28;01mas\u001b[39;00m err:\n\u001b[0;32m   1636\u001b[0m     \u001b[38;5;66;03m# e.g. \"foo\"\u001b[39;00m\n",
      "\u001b[1;31mValueError\u001b[0m: complex() arg is a malformed string",
      "\nThe above exception was the direct cause of the following exception:\n",
      "\u001b[1;31mTypeError\u001b[0m                                 Traceback (most recent call last)",
      "Cell \u001b[1;32mIn[4], line 1\u001b[0m\n\u001b[1;32m----> 1\u001b[0m df[\u001b[38;5;124m\"\u001b[39m\u001b[38;5;124mnumbers\u001b[39m\u001b[38;5;124m\"\u001b[39m]\u001b[38;5;241m.\u001b[39mmean()\n",
      "File \u001b[1;32mC:\\ProgramData\\anaconda3\\Lib\\site-packages\\pandas\\core\\generic.py:11847\u001b[0m, in \u001b[0;36mNDFrame._add_numeric_operations.<locals>.mean\u001b[1;34m(self, axis, skipna, level, numeric_only, **kwargs)\u001b[0m\n\u001b[0;32m  11829\u001b[0m \u001b[38;5;129m@doc\u001b[39m(\n\u001b[0;32m  11830\u001b[0m     _num_doc,\n\u001b[0;32m  11831\u001b[0m     desc\u001b[38;5;241m=\u001b[39m\u001b[38;5;124m\"\u001b[39m\u001b[38;5;124mReturn the mean of the values over the requested axis.\u001b[39m\u001b[38;5;124m\"\u001b[39m,\n\u001b[1;32m   (...)\u001b[0m\n\u001b[0;32m  11845\u001b[0m     \u001b[38;5;241m*\u001b[39m\u001b[38;5;241m*\u001b[39mkwargs,\n\u001b[0;32m  11846\u001b[0m ):\n\u001b[1;32m> 11847\u001b[0m     \u001b[38;5;28;01mreturn\u001b[39;00m NDFrame\u001b[38;5;241m.\u001b[39mmean(\u001b[38;5;28mself\u001b[39m, axis, skipna, level, numeric_only, \u001b[38;5;241m*\u001b[39m\u001b[38;5;241m*\u001b[39mkwargs)\n",
      "File \u001b[1;32mC:\\ProgramData\\anaconda3\\Lib\\site-packages\\pandas\\core\\generic.py:11401\u001b[0m, in \u001b[0;36mNDFrame.mean\u001b[1;34m(self, axis, skipna, level, numeric_only, **kwargs)\u001b[0m\n\u001b[0;32m  11393\u001b[0m \u001b[38;5;28;01mdef\u001b[39;00m \u001b[38;5;21mmean\u001b[39m(\n\u001b[0;32m  11394\u001b[0m     \u001b[38;5;28mself\u001b[39m,\n\u001b[0;32m  11395\u001b[0m     axis: Axis \u001b[38;5;241m|\u001b[39m \u001b[38;5;28;01mNone\u001b[39;00m \u001b[38;5;241m|\u001b[39m lib\u001b[38;5;241m.\u001b[39mNoDefault \u001b[38;5;241m=\u001b[39m lib\u001b[38;5;241m.\u001b[39mno_default,\n\u001b[1;32m   (...)\u001b[0m\n\u001b[0;32m  11399\u001b[0m     \u001b[38;5;241m*\u001b[39m\u001b[38;5;241m*\u001b[39mkwargs,\n\u001b[0;32m  11400\u001b[0m ) \u001b[38;5;241m-\u001b[39m\u001b[38;5;241m>\u001b[39m Series \u001b[38;5;241m|\u001b[39m \u001b[38;5;28mfloat\u001b[39m:\n\u001b[1;32m> 11401\u001b[0m     \u001b[38;5;28;01mreturn\u001b[39;00m \u001b[38;5;28mself\u001b[39m\u001b[38;5;241m.\u001b[39m_stat_function(\n\u001b[0;32m  11402\u001b[0m         \u001b[38;5;124m\"\u001b[39m\u001b[38;5;124mmean\u001b[39m\u001b[38;5;124m\"\u001b[39m, nanops\u001b[38;5;241m.\u001b[39mnanmean, axis, skipna, level, numeric_only, \u001b[38;5;241m*\u001b[39m\u001b[38;5;241m*\u001b[39mkwargs\n\u001b[0;32m  11403\u001b[0m     )\n",
      "File \u001b[1;32mC:\\ProgramData\\anaconda3\\Lib\\site-packages\\pandas\\core\\generic.py:11353\u001b[0m, in \u001b[0;36mNDFrame._stat_function\u001b[1;34m(self, name, func, axis, skipna, level, numeric_only, **kwargs)\u001b[0m\n\u001b[0;32m  11343\u001b[0m     warnings\u001b[38;5;241m.\u001b[39mwarn(\n\u001b[0;32m  11344\u001b[0m         \u001b[38;5;124m\"\u001b[39m\u001b[38;5;124mUsing the level keyword in DataFrame and Series aggregations is \u001b[39m\u001b[38;5;124m\"\u001b[39m\n\u001b[0;32m  11345\u001b[0m         \u001b[38;5;124m\"\u001b[39m\u001b[38;5;124mdeprecated and will be removed in a future version. Use groupby \u001b[39m\u001b[38;5;124m\"\u001b[39m\n\u001b[1;32m   (...)\u001b[0m\n\u001b[0;32m  11348\u001b[0m         stacklevel\u001b[38;5;241m=\u001b[39mfind_stack_level(),\n\u001b[0;32m  11349\u001b[0m     )\n\u001b[0;32m  11350\u001b[0m     \u001b[38;5;28;01mreturn\u001b[39;00m \u001b[38;5;28mself\u001b[39m\u001b[38;5;241m.\u001b[39m_agg_by_level(\n\u001b[0;32m  11351\u001b[0m         name, axis\u001b[38;5;241m=\u001b[39maxis, level\u001b[38;5;241m=\u001b[39mlevel, skipna\u001b[38;5;241m=\u001b[39mskipna, numeric_only\u001b[38;5;241m=\u001b[39mnumeric_only\n\u001b[0;32m  11352\u001b[0m     )\n\u001b[1;32m> 11353\u001b[0m \u001b[38;5;28;01mreturn\u001b[39;00m \u001b[38;5;28mself\u001b[39m\u001b[38;5;241m.\u001b[39m_reduce(\n\u001b[0;32m  11354\u001b[0m     func, name\u001b[38;5;241m=\u001b[39mname, axis\u001b[38;5;241m=\u001b[39maxis, skipna\u001b[38;5;241m=\u001b[39mskipna, numeric_only\u001b[38;5;241m=\u001b[39mnumeric_only\n\u001b[0;32m  11355\u001b[0m )\n",
      "File \u001b[1;32mC:\\ProgramData\\anaconda3\\Lib\\site-packages\\pandas\\core\\series.py:4816\u001b[0m, in \u001b[0;36mSeries._reduce\u001b[1;34m(self, op, name, axis, skipna, numeric_only, filter_type, **kwds)\u001b[0m\n\u001b[0;32m   4812\u001b[0m     \u001b[38;5;28;01mraise\u001b[39;00m \u001b[38;5;167;01mNotImplementedError\u001b[39;00m(\n\u001b[0;32m   4813\u001b[0m         \u001b[38;5;124mf\u001b[39m\u001b[38;5;124m\"\u001b[39m\u001b[38;5;124mSeries.\u001b[39m\u001b[38;5;132;01m{\u001b[39;00mname\u001b[38;5;132;01m}\u001b[39;00m\u001b[38;5;124m does not implement \u001b[39m\u001b[38;5;132;01m{\u001b[39;00mkwd_name\u001b[38;5;132;01m}\u001b[39;00m\u001b[38;5;124m.\u001b[39m\u001b[38;5;124m\"\u001b[39m\n\u001b[0;32m   4814\u001b[0m     )\n\u001b[0;32m   4815\u001b[0m \u001b[38;5;28;01mwith\u001b[39;00m np\u001b[38;5;241m.\u001b[39merrstate(\u001b[38;5;28mall\u001b[39m\u001b[38;5;241m=\u001b[39m\u001b[38;5;124m\"\u001b[39m\u001b[38;5;124mignore\u001b[39m\u001b[38;5;124m\"\u001b[39m):\n\u001b[1;32m-> 4816\u001b[0m     \u001b[38;5;28;01mreturn\u001b[39;00m op(delegate, skipna\u001b[38;5;241m=\u001b[39mskipna, \u001b[38;5;241m*\u001b[39m\u001b[38;5;241m*\u001b[39mkwds)\n",
      "File \u001b[1;32mC:\\ProgramData\\anaconda3\\Lib\\site-packages\\pandas\\core\\nanops.py:93\u001b[0m, in \u001b[0;36mdisallow.__call__.<locals>._f\u001b[1;34m(*args, **kwargs)\u001b[0m\n\u001b[0;32m     91\u001b[0m \u001b[38;5;28;01mtry\u001b[39;00m:\n\u001b[0;32m     92\u001b[0m     \u001b[38;5;28;01mwith\u001b[39;00m np\u001b[38;5;241m.\u001b[39merrstate(invalid\u001b[38;5;241m=\u001b[39m\u001b[38;5;124m\"\u001b[39m\u001b[38;5;124mignore\u001b[39m\u001b[38;5;124m\"\u001b[39m):\n\u001b[1;32m---> 93\u001b[0m         \u001b[38;5;28;01mreturn\u001b[39;00m f(\u001b[38;5;241m*\u001b[39margs, \u001b[38;5;241m*\u001b[39m\u001b[38;5;241m*\u001b[39mkwargs)\n\u001b[0;32m     94\u001b[0m \u001b[38;5;28;01mexcept\u001b[39;00m \u001b[38;5;167;01mValueError\u001b[39;00m \u001b[38;5;28;01mas\u001b[39;00m e:\n\u001b[0;32m     95\u001b[0m     \u001b[38;5;66;03m# we want to transform an object array\u001b[39;00m\n\u001b[0;32m     96\u001b[0m     \u001b[38;5;66;03m# ValueError message to the more typical TypeError\u001b[39;00m\n\u001b[0;32m     97\u001b[0m     \u001b[38;5;66;03m# e.g. this is normally a disallowed function on\u001b[39;00m\n\u001b[0;32m     98\u001b[0m     \u001b[38;5;66;03m# object arrays that contain strings\u001b[39;00m\n\u001b[0;32m     99\u001b[0m     \u001b[38;5;28;01mif\u001b[39;00m is_object_dtype(args[\u001b[38;5;241m0\u001b[39m]):\n",
      "File \u001b[1;32mC:\\ProgramData\\anaconda3\\Lib\\site-packages\\pandas\\core\\nanops.py:155\u001b[0m, in \u001b[0;36mbottleneck_switch.__call__.<locals>.f\u001b[1;34m(values, axis, skipna, **kwds)\u001b[0m\n\u001b[0;32m    153\u001b[0m         result \u001b[38;5;241m=\u001b[39m alt(values, axis\u001b[38;5;241m=\u001b[39maxis, skipna\u001b[38;5;241m=\u001b[39mskipna, \u001b[38;5;241m*\u001b[39m\u001b[38;5;241m*\u001b[39mkwds)\n\u001b[0;32m    154\u001b[0m \u001b[38;5;28;01melse\u001b[39;00m:\n\u001b[1;32m--> 155\u001b[0m     result \u001b[38;5;241m=\u001b[39m alt(values, axis\u001b[38;5;241m=\u001b[39maxis, skipna\u001b[38;5;241m=\u001b[39mskipna, \u001b[38;5;241m*\u001b[39m\u001b[38;5;241m*\u001b[39mkwds)\n\u001b[0;32m    157\u001b[0m \u001b[38;5;28;01mreturn\u001b[39;00m result\n",
      "File \u001b[1;32mC:\\ProgramData\\anaconda3\\Lib\\site-packages\\pandas\\core\\nanops.py:418\u001b[0m, in \u001b[0;36m_datetimelike_compat.<locals>.new_func\u001b[1;34m(values, axis, skipna, mask, **kwargs)\u001b[0m\n\u001b[0;32m    415\u001b[0m \u001b[38;5;28;01mif\u001b[39;00m datetimelike \u001b[38;5;129;01mand\u001b[39;00m mask \u001b[38;5;129;01mis\u001b[39;00m \u001b[38;5;28;01mNone\u001b[39;00m:\n\u001b[0;32m    416\u001b[0m     mask \u001b[38;5;241m=\u001b[39m isna(values)\n\u001b[1;32m--> 418\u001b[0m result \u001b[38;5;241m=\u001b[39m func(values, axis\u001b[38;5;241m=\u001b[39maxis, skipna\u001b[38;5;241m=\u001b[39mskipna, mask\u001b[38;5;241m=\u001b[39mmask, \u001b[38;5;241m*\u001b[39m\u001b[38;5;241m*\u001b[39mkwargs)\n\u001b[0;32m    420\u001b[0m \u001b[38;5;28;01mif\u001b[39;00m datetimelike:\n\u001b[0;32m    421\u001b[0m     result \u001b[38;5;241m=\u001b[39m _wrap_results(result, orig_values\u001b[38;5;241m.\u001b[39mdtype, fill_value\u001b[38;5;241m=\u001b[39miNaT)\n",
      "File \u001b[1;32mC:\\ProgramData\\anaconda3\\Lib\\site-packages\\pandas\\core\\nanops.py:706\u001b[0m, in \u001b[0;36mnanmean\u001b[1;34m(values, axis, skipna, mask)\u001b[0m\n\u001b[0;32m    703\u001b[0m     dtype_count \u001b[38;5;241m=\u001b[39m dtype\n\u001b[0;32m    705\u001b[0m count \u001b[38;5;241m=\u001b[39m _get_counts(values\u001b[38;5;241m.\u001b[39mshape, mask, axis, dtype\u001b[38;5;241m=\u001b[39mdtype_count)\n\u001b[1;32m--> 706\u001b[0m the_sum \u001b[38;5;241m=\u001b[39m _ensure_numeric(values\u001b[38;5;241m.\u001b[39msum(axis, dtype\u001b[38;5;241m=\u001b[39mdtype_sum))\n\u001b[0;32m    708\u001b[0m \u001b[38;5;28;01mif\u001b[39;00m axis \u001b[38;5;129;01mis\u001b[39;00m \u001b[38;5;129;01mnot\u001b[39;00m \u001b[38;5;28;01mNone\u001b[39;00m \u001b[38;5;129;01mand\u001b[39;00m \u001b[38;5;28mgetattr\u001b[39m(the_sum, \u001b[38;5;124m\"\u001b[39m\u001b[38;5;124mndim\u001b[39m\u001b[38;5;124m\"\u001b[39m, \u001b[38;5;28;01mFalse\u001b[39;00m):\n\u001b[0;32m    709\u001b[0m     count \u001b[38;5;241m=\u001b[39m cast(np\u001b[38;5;241m.\u001b[39mndarray, count)\n",
      "File \u001b[1;32mC:\\ProgramData\\anaconda3\\Lib\\site-packages\\pandas\\core\\nanops.py:1637\u001b[0m, in \u001b[0;36m_ensure_numeric\u001b[1;34m(x)\u001b[0m\n\u001b[0;32m   1634\u001b[0m             x \u001b[38;5;241m=\u001b[39m \u001b[38;5;28mcomplex\u001b[39m(x)\n\u001b[0;32m   1635\u001b[0m         \u001b[38;5;28;01mexcept\u001b[39;00m \u001b[38;5;167;01mValueError\u001b[39;00m \u001b[38;5;28;01mas\u001b[39;00m err:\n\u001b[0;32m   1636\u001b[0m             \u001b[38;5;66;03m# e.g. \"foo\"\u001b[39;00m\n\u001b[1;32m-> 1637\u001b[0m             \u001b[38;5;28;01mraise\u001b[39;00m \u001b[38;5;167;01mTypeError\u001b[39;00m(\u001b[38;5;124mf\u001b[39m\u001b[38;5;124m\"\u001b[39m\u001b[38;5;124mCould not convert \u001b[39m\u001b[38;5;132;01m{\u001b[39;00mx\u001b[38;5;132;01m}\u001b[39;00m\u001b[38;5;124m to numeric\u001b[39m\u001b[38;5;124m\"\u001b[39m) \u001b[38;5;28;01mfrom\u001b[39;00m \u001b[38;5;21;01merr\u001b[39;00m\n\u001b[0;32m   1638\u001b[0m \u001b[38;5;28;01mreturn\u001b[39;00m x\n",
      "\u001b[1;31mTypeError\u001b[0m: Could not convert #23#24#18#14#12#10#35 to numeric"
     ]
    }
   ],
   "source": [
    "df[\"numbers\"].mean()"
   ]
  },
  {
   "cell_type": "markdown",
   "id": "495bbc4c",
   "metadata": {},
   "source": [
    "It throws an error!\n",
    "\n",
    "Can you figure out why?\n",
    "\n",
    "When looking at error messages, start at the very bottom.\n",
    "\n",
    "The final error says, `TypeError: Could not convert #23#24... to numeric`."
   ]
  },
  {
   "cell_type": "markdown",
   "id": "35285848",
   "metadata": {},
   "source": [
    "## Exercise\n",
    "\n",
    "See exercise 1 in the [exercise list](#pd-cln-ex)."
   ]
  },
  {
   "cell_type": "markdown",
   "id": "a6612f69",
   "metadata": {},
   "source": [
    "## String Methods\n",
    "\n",
    "Our solution to the previous exercise was to remove the `#` by using\n",
    "the `replace` string method: `int(c2n.replace(\"#\", \"\"))`.\n",
    "\n",
    "One way to make this change to every element of a column would be to\n",
    "loop through all elements of the column and apply the desired string\n",
    "methods…"
   ]
  },
  {
   "cell_type": "code",
   "execution_count": 5,
   "id": "57ef2fdd",
   "metadata": {
    "hide-output": false
   },
   "outputs": [
    {
     "name": "stdout",
     "output_type": "stream",
     "text": [
      "CPU times: total: 0 ns\n",
      "Wall time: 11 ms\n"
     ]
    }
   ],
   "source": [
    "%%time\n",
    "\n",
    "# Iterate over all rows\n",
    "for row in df.iterrows():\n",
    "\n",
    "    # `iterrows` method produces a tuple with two elements...\n",
    "    # The first element is an index and the second is a Series with the data from that row\n",
    "    index_value, column_values = row\n",
    "\n",
    "    # Apply string method\n",
    "    clean_number = int(column_values[\"numbers\"].replace(\"#\", \"\"))\n",
    "\n",
    "    # The `at` method is very similar to the `loc` method, but it is specialized\n",
    "    # for accessing single elements at a time... We wanted to use it here to give\n",
    "    # the loop the best chance to beat a faster method which we show you next.\n",
    "    df.at[index_value, \"numbers_loop\"] = clean_number"
   ]
  },
  {
   "cell_type": "markdown",
   "id": "2b62ca9f",
   "metadata": {},
   "source": [
    "While this is fast for a small dataset like this, this method slows for larger datasets.\n",
    "\n",
    "One *significantly* faster (and easier) method is to apply a string\n",
    "method to an entire column of data.\n",
    "\n",
    "Most methods that are available to a Python string (we learned a\n",
    "few of them in the [strings lecture](https://datascience.quantecon.org/../python_fundamentals/basics.html)) are\n",
    "also available to a pandas Series that has `dtype` object.\n",
    "\n",
    "We access them by doing `s.str.method_name` where `method_name` is\n",
    "the name of the method.\n",
    "\n",
    "When we apply the method to a Series, it is applied to all rows in the\n",
    "Series in one shot!\n",
    "\n",
    "Let’s redo our previous example using a pandas `.str` method."
   ]
  },
  {
   "cell_type": "code",
   "execution_count": 6,
   "id": "08990c9a",
   "metadata": {
    "hide-output": false
   },
   "outputs": [
    {
     "name": "stdout",
     "output_type": "stream",
     "text": [
      "CPU times: total: 0 ns\n",
      "Wall time: 7.71 ms\n"
     ]
    }
   ],
   "source": [
    "%%time\n",
    "\n",
    "# ~2x faster than loop... However, speed gain increases with size of DataFrame. The\n",
    "# speedup can be in the ballpark of ~100-500x faster for big DataFrames.\n",
    "# See appendix at the end of the lecture for an application on a larger DataFrame\n",
    "df[\"numbers_str\"] = df[\"numbers\"].str.replace(\"#\", \"\")"
   ]
  },
  {
   "cell_type": "markdown",
   "id": "a35792e2",
   "metadata": {},
   "source": [
    "We can use `.str` to access almost any string method that works on\n",
    "normal strings. (See the [official\n",
    "documentation](https://pandas.pydata.org/pandas-docs/stable/text.html)\n",
    "for more information.)"
   ]
  },
  {
   "cell_type": "code",
   "execution_count": 7,
   "id": "6577fe86",
   "metadata": {
    "hide-output": false
   },
   "outputs": [
    {
     "data": {
      "text/plain": [
       "0    False\n",
       "1    False\n",
       "2    False\n",
       "3    False\n",
       "4     True\n",
       "5    False\n",
       "6     True\n",
       "Name: colors, dtype: bool"
      ]
     },
     "execution_count": 7,
     "metadata": {},
     "output_type": "execute_result"
    }
   ],
   "source": [
    "df[\"colors\"].str.contains(\"p\")"
   ]
  },
  {
   "cell_type": "code",
   "execution_count": 8,
   "id": "3af28cf0",
   "metadata": {
    "hide-output": false
   },
   "outputs": [
    {
     "data": {
      "text/plain": [
       "0     Green\n",
       "1       Red\n",
       "2    Yellow\n",
       "3    Orange\n",
       "4    Purple\n",
       "5      Blue\n",
       "6      Pink\n",
       "Name: colors, dtype: object"
      ]
     },
     "execution_count": 8,
     "metadata": {},
     "output_type": "execute_result"
    }
   ],
   "source": [
    "df[\"colors\"].str.capitalize()"
   ]
  },
  {
   "cell_type": "markdown",
   "id": "7e75642c",
   "metadata": {},
   "source": [
    "## Exercise\n",
    "\n",
    "See exercise 2  in the [exercise list](#pd-cln-ex)."
   ]
  },
  {
   "cell_type": "markdown",
   "id": "93a1c3dc",
   "metadata": {},
   "source": [
    "## Type Conversions\n",
    "\n",
    "In our example above, the `dtype` of the `numbers_str` column shows that pandas still treats\n",
    "it as a string even after we have removed the `\"#\"`.\n",
    "\n",
    "We need to convert this column to numbers.\n",
    "\n",
    "The best way to do this is using the `pd.to_numeric` function.\n",
    "\n",
    "This method attempts to convert whatever is stored in a Series into\n",
    "numeric values\n",
    "\n",
    "For example, after the `\"#\"` removed, the numbers of column\n",
    "`\"numbers\"` are ready to be converted to actual numbers."
   ]
  },
  {
   "cell_type": "code",
   "execution_count": 9,
   "id": "30caa793",
   "metadata": {
    "hide-output": false
   },
   "outputs": [],
   "source": [
    "df[\"numbers_numeric\"] = pd.to_numeric(df[\"numbers_str\"])"
   ]
  },
  {
   "cell_type": "code",
   "execution_count": 10,
   "id": "95484b27",
   "metadata": {
    "hide-output": false
   },
   "outputs": [
    {
     "data": {
      "text/plain": [
       "numbers             object\n",
       "nums                object\n",
       "colors              object\n",
       "other_column         int64\n",
       "numbers_loop       float64\n",
       "numbers_str         object\n",
       "numbers_numeric      int64\n",
       "dtype: object"
      ]
     },
     "execution_count": 10,
     "metadata": {},
     "output_type": "execute_result"
    }
   ],
   "source": [
    "df.dtypes"
   ]
  },
  {
   "cell_type": "code",
   "execution_count": 11,
   "id": "1dc3fe96",
   "metadata": {
    "hide-output": false
   },
   "outputs": [
    {
     "data": {
      "text/html": [
       "<div>\n",
       "<style scoped>\n",
       "    .dataframe tbody tr th:only-of-type {\n",
       "        vertical-align: middle;\n",
       "    }\n",
       "\n",
       "    .dataframe tbody tr th {\n",
       "        vertical-align: top;\n",
       "    }\n",
       "\n",
       "    .dataframe thead th {\n",
       "        text-align: right;\n",
       "    }\n",
       "</style>\n",
       "<table border=\"1\" class=\"dataframe\">\n",
       "  <thead>\n",
       "    <tr style=\"text-align: right;\">\n",
       "      <th></th>\n",
       "      <th>numbers</th>\n",
       "      <th>nums</th>\n",
       "      <th>colors</th>\n",
       "      <th>other_column</th>\n",
       "      <th>numbers_loop</th>\n",
       "      <th>numbers_str</th>\n",
       "      <th>numbers_numeric</th>\n",
       "    </tr>\n",
       "  </thead>\n",
       "  <tbody>\n",
       "    <tr>\n",
       "      <th>0</th>\n",
       "      <td>#23</td>\n",
       "      <td>23</td>\n",
       "      <td>green</td>\n",
       "      <td>0</td>\n",
       "      <td>23.0</td>\n",
       "      <td>23</td>\n",
       "      <td>23</td>\n",
       "    </tr>\n",
       "    <tr>\n",
       "      <th>1</th>\n",
       "      <td>#24</td>\n",
       "      <td>24</td>\n",
       "      <td>red</td>\n",
       "      <td>1</td>\n",
       "      <td>24.0</td>\n",
       "      <td>24</td>\n",
       "      <td>24</td>\n",
       "    </tr>\n",
       "    <tr>\n",
       "      <th>2</th>\n",
       "      <td>#18</td>\n",
       "      <td>18</td>\n",
       "      <td>yellow</td>\n",
       "      <td>0</td>\n",
       "      <td>18.0</td>\n",
       "      <td>18</td>\n",
       "      <td>18</td>\n",
       "    </tr>\n",
       "    <tr>\n",
       "      <th>3</th>\n",
       "      <td>#14</td>\n",
       "      <td>14</td>\n",
       "      <td>orange</td>\n",
       "      <td>2</td>\n",
       "      <td>14.0</td>\n",
       "      <td>14</td>\n",
       "      <td>14</td>\n",
       "    </tr>\n",
       "    <tr>\n",
       "      <th>4</th>\n",
       "      <td>#12</td>\n",
       "      <td>NaN</td>\n",
       "      <td>purple</td>\n",
       "      <td>1</td>\n",
       "      <td>12.0</td>\n",
       "      <td>12</td>\n",
       "      <td>12</td>\n",
       "    </tr>\n",
       "  </tbody>\n",
       "</table>\n",
       "</div>"
      ],
      "text/plain": [
       "  numbers nums  colors  other_column  numbers_loop numbers_str  \\\n",
       "0     #23   23   green             0          23.0          23   \n",
       "1     #24   24     red             1          24.0          24   \n",
       "2     #18   18  yellow             0          18.0          18   \n",
       "3     #14   14  orange             2          14.0          14   \n",
       "4     #12  NaN  purple             1          12.0          12   \n",
       "\n",
       "   numbers_numeric  \n",
       "0               23  \n",
       "1               24  \n",
       "2               18  \n",
       "3               14  \n",
       "4               12  "
      ]
     },
     "execution_count": 11,
     "metadata": {},
     "output_type": "execute_result"
    }
   ],
   "source": [
    "df.head()"
   ]
  },
  {
   "cell_type": "markdown",
   "id": "975efee1",
   "metadata": {},
   "source": [
    "We can convert to other types well.\n",
    "\n",
    "Using the `astype` method, we can convert to any of the supported\n",
    "pandas `dtypes` (recall the [intro lecture](https://datascience.quantecon.org/intro.html)).\n",
    "\n",
    "Below are some examples. (Pay attention to the reported `dtype`)"
   ]
  },
  {
   "cell_type": "code",
   "execution_count": 12,
   "id": "0503bd2f",
   "metadata": {
    "hide-output": false
   },
   "outputs": [
    {
     "data": {
      "text/plain": [
       "0    23\n",
       "1    24\n",
       "2    18\n",
       "3    14\n",
       "4    12\n",
       "5    10\n",
       "6    35\n",
       "Name: numbers_numeric, dtype: object"
      ]
     },
     "execution_count": 12,
     "metadata": {},
     "output_type": "execute_result"
    }
   ],
   "source": [
    "df[\"numbers_numeric\"].astype(str)"
   ]
  },
  {
   "cell_type": "code",
   "execution_count": 13,
   "id": "592461d4",
   "metadata": {
    "hide-output": false
   },
   "outputs": [
    {
     "data": {
      "text/plain": [
       "0    23.0\n",
       "1    24.0\n",
       "2    18.0\n",
       "3    14.0\n",
       "4    12.0\n",
       "5    10.0\n",
       "6    35.0\n",
       "Name: numbers_numeric, dtype: float64"
      ]
     },
     "execution_count": 13,
     "metadata": {},
     "output_type": "execute_result"
    }
   ],
   "source": [
    "df[\"numbers_numeric\"].astype(float)"
   ]
  },
  {
   "cell_type": "markdown",
   "id": "658d62ec",
   "metadata": {},
   "source": [
    "## Exercise\n",
    "\n",
    "See exercise 3 in the [exercise list](#pd-cln-ex)."
   ]
  },
  {
   "cell_type": "markdown",
   "id": "167cd2c2",
   "metadata": {},
   "source": [
    "## Missing Data\n",
    "\n",
    "Many datasets have missing data.\n",
    "\n",
    "In our example, we are missing an element from the `\"nums\"` column."
   ]
  },
  {
   "cell_type": "code",
   "execution_count": 14,
   "id": "0a192eb4",
   "metadata": {
    "hide-output": false
   },
   "outputs": [
    {
     "data": {
      "text/html": [
       "<div>\n",
       "<style scoped>\n",
       "    .dataframe tbody tr th:only-of-type {\n",
       "        vertical-align: middle;\n",
       "    }\n",
       "\n",
       "    .dataframe tbody tr th {\n",
       "        vertical-align: top;\n",
       "    }\n",
       "\n",
       "    .dataframe thead th {\n",
       "        text-align: right;\n",
       "    }\n",
       "</style>\n",
       "<table border=\"1\" class=\"dataframe\">\n",
       "  <thead>\n",
       "    <tr style=\"text-align: right;\">\n",
       "      <th></th>\n",
       "      <th>numbers</th>\n",
       "      <th>nums</th>\n",
       "      <th>colors</th>\n",
       "      <th>other_column</th>\n",
       "      <th>numbers_loop</th>\n",
       "      <th>numbers_str</th>\n",
       "      <th>numbers_numeric</th>\n",
       "    </tr>\n",
       "  </thead>\n",
       "  <tbody>\n",
       "    <tr>\n",
       "      <th>0</th>\n",
       "      <td>#23</td>\n",
       "      <td>23</td>\n",
       "      <td>green</td>\n",
       "      <td>0</td>\n",
       "      <td>23.0</td>\n",
       "      <td>23</td>\n",
       "      <td>23</td>\n",
       "    </tr>\n",
       "    <tr>\n",
       "      <th>1</th>\n",
       "      <td>#24</td>\n",
       "      <td>24</td>\n",
       "      <td>red</td>\n",
       "      <td>1</td>\n",
       "      <td>24.0</td>\n",
       "      <td>24</td>\n",
       "      <td>24</td>\n",
       "    </tr>\n",
       "    <tr>\n",
       "      <th>2</th>\n",
       "      <td>#18</td>\n",
       "      <td>18</td>\n",
       "      <td>yellow</td>\n",
       "      <td>0</td>\n",
       "      <td>18.0</td>\n",
       "      <td>18</td>\n",
       "      <td>18</td>\n",
       "    </tr>\n",
       "    <tr>\n",
       "      <th>3</th>\n",
       "      <td>#14</td>\n",
       "      <td>14</td>\n",
       "      <td>orange</td>\n",
       "      <td>2</td>\n",
       "      <td>14.0</td>\n",
       "      <td>14</td>\n",
       "      <td>14</td>\n",
       "    </tr>\n",
       "    <tr>\n",
       "      <th>4</th>\n",
       "      <td>#12</td>\n",
       "      <td>NaN</td>\n",
       "      <td>purple</td>\n",
       "      <td>1</td>\n",
       "      <td>12.0</td>\n",
       "      <td>12</td>\n",
       "      <td>12</td>\n",
       "    </tr>\n",
       "    <tr>\n",
       "      <th>5</th>\n",
       "      <td>#10</td>\n",
       "      <td>XYZ</td>\n",
       "      <td>blue</td>\n",
       "      <td>0</td>\n",
       "      <td>10.0</td>\n",
       "      <td>10</td>\n",
       "      <td>10</td>\n",
       "    </tr>\n",
       "    <tr>\n",
       "      <th>6</th>\n",
       "      <td>#35</td>\n",
       "      <td>35</td>\n",
       "      <td>pink</td>\n",
       "      <td>2</td>\n",
       "      <td>35.0</td>\n",
       "      <td>35</td>\n",
       "      <td>35</td>\n",
       "    </tr>\n",
       "  </tbody>\n",
       "</table>\n",
       "</div>"
      ],
      "text/plain": [
       "  numbers nums  colors  other_column  numbers_loop numbers_str  \\\n",
       "0     #23   23   green             0          23.0          23   \n",
       "1     #24   24     red             1          24.0          24   \n",
       "2     #18   18  yellow             0          18.0          18   \n",
       "3     #14   14  orange             2          14.0          14   \n",
       "4     #12  NaN  purple             1          12.0          12   \n",
       "5     #10  XYZ    blue             0          10.0          10   \n",
       "6     #35   35    pink             2          35.0          35   \n",
       "\n",
       "   numbers_numeric  \n",
       "0               23  \n",
       "1               24  \n",
       "2               18  \n",
       "3               14  \n",
       "4               12  \n",
       "5               10  \n",
       "6               35  "
      ]
     },
     "execution_count": 14,
     "metadata": {},
     "output_type": "execute_result"
    }
   ],
   "source": [
    "df"
   ]
  },
  {
   "cell_type": "markdown",
   "id": "89b12465",
   "metadata": {},
   "source": [
    "We can find missing data by using the `isnull` method."
   ]
  },
  {
   "cell_type": "code",
   "execution_count": 15,
   "id": "e2add558",
   "metadata": {
    "hide-output": false
   },
   "outputs": [
    {
     "data": {
      "text/html": [
       "<div>\n",
       "<style scoped>\n",
       "    .dataframe tbody tr th:only-of-type {\n",
       "        vertical-align: middle;\n",
       "    }\n",
       "\n",
       "    .dataframe tbody tr th {\n",
       "        vertical-align: top;\n",
       "    }\n",
       "\n",
       "    .dataframe thead th {\n",
       "        text-align: right;\n",
       "    }\n",
       "</style>\n",
       "<table border=\"1\" class=\"dataframe\">\n",
       "  <thead>\n",
       "    <tr style=\"text-align: right;\">\n",
       "      <th></th>\n",
       "      <th>numbers</th>\n",
       "      <th>nums</th>\n",
       "      <th>colors</th>\n",
       "      <th>other_column</th>\n",
       "      <th>numbers_loop</th>\n",
       "      <th>numbers_str</th>\n",
       "      <th>numbers_numeric</th>\n",
       "    </tr>\n",
       "  </thead>\n",
       "  <tbody>\n",
       "    <tr>\n",
       "      <th>0</th>\n",
       "      <td>False</td>\n",
       "      <td>False</td>\n",
       "      <td>False</td>\n",
       "      <td>False</td>\n",
       "      <td>False</td>\n",
       "      <td>False</td>\n",
       "      <td>False</td>\n",
       "    </tr>\n",
       "    <tr>\n",
       "      <th>1</th>\n",
       "      <td>False</td>\n",
       "      <td>False</td>\n",
       "      <td>False</td>\n",
       "      <td>False</td>\n",
       "      <td>False</td>\n",
       "      <td>False</td>\n",
       "      <td>False</td>\n",
       "    </tr>\n",
       "    <tr>\n",
       "      <th>2</th>\n",
       "      <td>False</td>\n",
       "      <td>False</td>\n",
       "      <td>False</td>\n",
       "      <td>False</td>\n",
       "      <td>False</td>\n",
       "      <td>False</td>\n",
       "      <td>False</td>\n",
       "    </tr>\n",
       "    <tr>\n",
       "      <th>3</th>\n",
       "      <td>False</td>\n",
       "      <td>False</td>\n",
       "      <td>False</td>\n",
       "      <td>False</td>\n",
       "      <td>False</td>\n",
       "      <td>False</td>\n",
       "      <td>False</td>\n",
       "    </tr>\n",
       "    <tr>\n",
       "      <th>4</th>\n",
       "      <td>False</td>\n",
       "      <td>True</td>\n",
       "      <td>False</td>\n",
       "      <td>False</td>\n",
       "      <td>False</td>\n",
       "      <td>False</td>\n",
       "      <td>False</td>\n",
       "    </tr>\n",
       "    <tr>\n",
       "      <th>5</th>\n",
       "      <td>False</td>\n",
       "      <td>False</td>\n",
       "      <td>False</td>\n",
       "      <td>False</td>\n",
       "      <td>False</td>\n",
       "      <td>False</td>\n",
       "      <td>False</td>\n",
       "    </tr>\n",
       "    <tr>\n",
       "      <th>6</th>\n",
       "      <td>False</td>\n",
       "      <td>False</td>\n",
       "      <td>False</td>\n",
       "      <td>False</td>\n",
       "      <td>False</td>\n",
       "      <td>False</td>\n",
       "      <td>False</td>\n",
       "    </tr>\n",
       "  </tbody>\n",
       "</table>\n",
       "</div>"
      ],
      "text/plain": [
       "   numbers   nums  colors  other_column  numbers_loop  numbers_str  \\\n",
       "0    False  False   False         False         False        False   \n",
       "1    False  False   False         False         False        False   \n",
       "2    False  False   False         False         False        False   \n",
       "3    False  False   False         False         False        False   \n",
       "4    False   True   False         False         False        False   \n",
       "5    False  False   False         False         False        False   \n",
       "6    False  False   False         False         False        False   \n",
       "\n",
       "   numbers_numeric  \n",
       "0            False  \n",
       "1            False  \n",
       "2            False  \n",
       "3            False  \n",
       "4            False  \n",
       "5            False  \n",
       "6            False  "
      ]
     },
     "execution_count": 15,
     "metadata": {},
     "output_type": "execute_result"
    }
   ],
   "source": [
    "df.isnull()"
   ]
  },
  {
   "cell_type": "markdown",
   "id": "a3883f8a",
   "metadata": {},
   "source": [
    "We might want to know whether particular rows or columns have any\n",
    "missing data.\n",
    "\n",
    "To do this we can use the `.any` method on the boolean DataFrame\n",
    "`df.isnull()`."
   ]
  },
  {
   "cell_type": "code",
   "execution_count": 16,
   "id": "280f18eb",
   "metadata": {
    "hide-output": false
   },
   "outputs": [
    {
     "data": {
      "text/plain": [
       "numbers            False\n",
       "nums                True\n",
       "colors             False\n",
       "other_column       False\n",
       "numbers_loop       False\n",
       "numbers_str        False\n",
       "numbers_numeric    False\n",
       "dtype: bool"
      ]
     },
     "execution_count": 16,
     "metadata": {},
     "output_type": "execute_result"
    }
   ],
   "source": [
    "df.isnull().any(axis=0)"
   ]
  },
  {
   "cell_type": "code",
   "execution_count": 17,
   "id": "b74b8f18",
   "metadata": {
    "hide-output": false
   },
   "outputs": [
    {
     "data": {
      "text/plain": [
       "0    False\n",
       "1    False\n",
       "2    False\n",
       "3    False\n",
       "4     True\n",
       "5    False\n",
       "6    False\n",
       "dtype: bool"
      ]
     },
     "execution_count": 17,
     "metadata": {},
     "output_type": "execute_result"
    }
   ],
   "source": [
    "df.isnull().any(axis=1)"
   ]
  },
  {
   "cell_type": "markdown",
   "id": "0423d641",
   "metadata": {},
   "source": [
    "Many approaches have been developed to deal with missing data, but the two most commonly used (and the corresponding DataFrame method) are:\n",
    "\n",
    "- Exclusion: Ignore any data that is missing (`.dropna`).  \n",
    "- Imputation: Compute “predicted” values for the data that is missing\n",
    "  (`.fillna`).  \n",
    "\n",
    "\n",
    "For the advantages and disadvantages of these (and other) approaches,\n",
    "consider reading the [Wikipedia\n",
    "article](https://en.wikipedia.org/wiki/Missing_data).\n",
    "\n",
    "For now, let’s see some examples."
   ]
  },
  {
   "cell_type": "code",
   "execution_count": 18,
   "id": "090c1c3d",
   "metadata": {
    "hide-output": false
   },
   "outputs": [
    {
     "data": {
      "text/html": [
       "<div>\n",
       "<style scoped>\n",
       "    .dataframe tbody tr th:only-of-type {\n",
       "        vertical-align: middle;\n",
       "    }\n",
       "\n",
       "    .dataframe tbody tr th {\n",
       "        vertical-align: top;\n",
       "    }\n",
       "\n",
       "    .dataframe thead th {\n",
       "        text-align: right;\n",
       "    }\n",
       "</style>\n",
       "<table border=\"1\" class=\"dataframe\">\n",
       "  <thead>\n",
       "    <tr style=\"text-align: right;\">\n",
       "      <th></th>\n",
       "      <th>numbers</th>\n",
       "      <th>nums</th>\n",
       "      <th>colors</th>\n",
       "      <th>other_column</th>\n",
       "      <th>numbers_loop</th>\n",
       "      <th>numbers_str</th>\n",
       "      <th>numbers_numeric</th>\n",
       "    </tr>\n",
       "  </thead>\n",
       "  <tbody>\n",
       "    <tr>\n",
       "      <th>0</th>\n",
       "      <td>#23</td>\n",
       "      <td>23</td>\n",
       "      <td>green</td>\n",
       "      <td>0</td>\n",
       "      <td>23.0</td>\n",
       "      <td>23</td>\n",
       "      <td>23</td>\n",
       "    </tr>\n",
       "    <tr>\n",
       "      <th>1</th>\n",
       "      <td>#24</td>\n",
       "      <td>24</td>\n",
       "      <td>red</td>\n",
       "      <td>1</td>\n",
       "      <td>24.0</td>\n",
       "      <td>24</td>\n",
       "      <td>24</td>\n",
       "    </tr>\n",
       "    <tr>\n",
       "      <th>2</th>\n",
       "      <td>#18</td>\n",
       "      <td>18</td>\n",
       "      <td>yellow</td>\n",
       "      <td>0</td>\n",
       "      <td>18.0</td>\n",
       "      <td>18</td>\n",
       "      <td>18</td>\n",
       "    </tr>\n",
       "    <tr>\n",
       "      <th>3</th>\n",
       "      <td>#14</td>\n",
       "      <td>14</td>\n",
       "      <td>orange</td>\n",
       "      <td>2</td>\n",
       "      <td>14.0</td>\n",
       "      <td>14</td>\n",
       "      <td>14</td>\n",
       "    </tr>\n",
       "    <tr>\n",
       "      <th>5</th>\n",
       "      <td>#10</td>\n",
       "      <td>XYZ</td>\n",
       "      <td>blue</td>\n",
       "      <td>0</td>\n",
       "      <td>10.0</td>\n",
       "      <td>10</td>\n",
       "      <td>10</td>\n",
       "    </tr>\n",
       "    <tr>\n",
       "      <th>6</th>\n",
       "      <td>#35</td>\n",
       "      <td>35</td>\n",
       "      <td>pink</td>\n",
       "      <td>2</td>\n",
       "      <td>35.0</td>\n",
       "      <td>35</td>\n",
       "      <td>35</td>\n",
       "    </tr>\n",
       "  </tbody>\n",
       "</table>\n",
       "</div>"
      ],
      "text/plain": [
       "  numbers nums  colors  other_column  numbers_loop numbers_str  \\\n",
       "0     #23   23   green             0          23.0          23   \n",
       "1     #24   24     red             1          24.0          24   \n",
       "2     #18   18  yellow             0          18.0          18   \n",
       "3     #14   14  orange             2          14.0          14   \n",
       "5     #10  XYZ    blue             0          10.0          10   \n",
       "6     #35   35    pink             2          35.0          35   \n",
       "\n",
       "   numbers_numeric  \n",
       "0               23  \n",
       "1               24  \n",
       "2               18  \n",
       "3               14  \n",
       "5               10  \n",
       "6               35  "
      ]
     },
     "execution_count": 18,
     "metadata": {},
     "output_type": "execute_result"
    }
   ],
   "source": [
    "# drop all rows containing a missing observation\n",
    "df.dropna()"
   ]
  },
  {
   "cell_type": "code",
   "execution_count": 19,
   "id": "d7cbad46",
   "metadata": {
    "hide-output": false
   },
   "outputs": [
    {
     "data": {
      "text/html": [
       "<div>\n",
       "<style scoped>\n",
       "    .dataframe tbody tr th:only-of-type {\n",
       "        vertical-align: middle;\n",
       "    }\n",
       "\n",
       "    .dataframe tbody tr th {\n",
       "        vertical-align: top;\n",
       "    }\n",
       "\n",
       "    .dataframe thead th {\n",
       "        text-align: right;\n",
       "    }\n",
       "</style>\n",
       "<table border=\"1\" class=\"dataframe\">\n",
       "  <thead>\n",
       "    <tr style=\"text-align: right;\">\n",
       "      <th></th>\n",
       "      <th>numbers</th>\n",
       "      <th>nums</th>\n",
       "      <th>colors</th>\n",
       "      <th>other_column</th>\n",
       "      <th>numbers_loop</th>\n",
       "      <th>numbers_str</th>\n",
       "      <th>numbers_numeric</th>\n",
       "    </tr>\n",
       "  </thead>\n",
       "  <tbody>\n",
       "    <tr>\n",
       "      <th>0</th>\n",
       "      <td>#23</td>\n",
       "      <td>23</td>\n",
       "      <td>green</td>\n",
       "      <td>0</td>\n",
       "      <td>23.0</td>\n",
       "      <td>23</td>\n",
       "      <td>23</td>\n",
       "    </tr>\n",
       "    <tr>\n",
       "      <th>1</th>\n",
       "      <td>#24</td>\n",
       "      <td>24</td>\n",
       "      <td>red</td>\n",
       "      <td>1</td>\n",
       "      <td>24.0</td>\n",
       "      <td>24</td>\n",
       "      <td>24</td>\n",
       "    </tr>\n",
       "    <tr>\n",
       "      <th>2</th>\n",
       "      <td>#18</td>\n",
       "      <td>18</td>\n",
       "      <td>yellow</td>\n",
       "      <td>0</td>\n",
       "      <td>18.0</td>\n",
       "      <td>18</td>\n",
       "      <td>18</td>\n",
       "    </tr>\n",
       "    <tr>\n",
       "      <th>3</th>\n",
       "      <td>#14</td>\n",
       "      <td>14</td>\n",
       "      <td>orange</td>\n",
       "      <td>2</td>\n",
       "      <td>14.0</td>\n",
       "      <td>14</td>\n",
       "      <td>14</td>\n",
       "    </tr>\n",
       "    <tr>\n",
       "      <th>4</th>\n",
       "      <td>#12</td>\n",
       "      <td>100</td>\n",
       "      <td>purple</td>\n",
       "      <td>1</td>\n",
       "      <td>12.0</td>\n",
       "      <td>12</td>\n",
       "      <td>12</td>\n",
       "    </tr>\n",
       "    <tr>\n",
       "      <th>5</th>\n",
       "      <td>#10</td>\n",
       "      <td>XYZ</td>\n",
       "      <td>blue</td>\n",
       "      <td>0</td>\n",
       "      <td>10.0</td>\n",
       "      <td>10</td>\n",
       "      <td>10</td>\n",
       "    </tr>\n",
       "    <tr>\n",
       "      <th>6</th>\n",
       "      <td>#35</td>\n",
       "      <td>35</td>\n",
       "      <td>pink</td>\n",
       "      <td>2</td>\n",
       "      <td>35.0</td>\n",
       "      <td>35</td>\n",
       "      <td>35</td>\n",
       "    </tr>\n",
       "  </tbody>\n",
       "</table>\n",
       "</div>"
      ],
      "text/plain": [
       "  numbers nums  colors  other_column  numbers_loop numbers_str  \\\n",
       "0     #23   23   green             0          23.0          23   \n",
       "1     #24   24     red             1          24.0          24   \n",
       "2     #18   18  yellow             0          18.0          18   \n",
       "3     #14   14  orange             2          14.0          14   \n",
       "4     #12  100  purple             1          12.0          12   \n",
       "5     #10  XYZ    blue             0          10.0          10   \n",
       "6     #35   35    pink             2          35.0          35   \n",
       "\n",
       "   numbers_numeric  \n",
       "0               23  \n",
       "1               24  \n",
       "2               18  \n",
       "3               14  \n",
       "4               12  \n",
       "5               10  \n",
       "6               35  "
      ]
     },
     "execution_count": 19,
     "metadata": {},
     "output_type": "execute_result"
    }
   ],
   "source": [
    "# fill the missing values with a specific value\n",
    "df.fillna(value=100)"
   ]
  },
  {
   "cell_type": "code",
   "execution_count": 20,
   "id": "5163a192",
   "metadata": {
    "hide-output": false
   },
   "outputs": [
    {
     "data": {
      "text/html": [
       "<div>\n",
       "<style scoped>\n",
       "    .dataframe tbody tr th:only-of-type {\n",
       "        vertical-align: middle;\n",
       "    }\n",
       "\n",
       "    .dataframe tbody tr th {\n",
       "        vertical-align: top;\n",
       "    }\n",
       "\n",
       "    .dataframe thead th {\n",
       "        text-align: right;\n",
       "    }\n",
       "</style>\n",
       "<table border=\"1\" class=\"dataframe\">\n",
       "  <thead>\n",
       "    <tr style=\"text-align: right;\">\n",
       "      <th></th>\n",
       "      <th>numbers</th>\n",
       "      <th>nums</th>\n",
       "      <th>colors</th>\n",
       "      <th>other_column</th>\n",
       "      <th>numbers_loop</th>\n",
       "      <th>numbers_str</th>\n",
       "      <th>numbers_numeric</th>\n",
       "    </tr>\n",
       "  </thead>\n",
       "  <tbody>\n",
       "    <tr>\n",
       "      <th>0</th>\n",
       "      <td>#23</td>\n",
       "      <td>23</td>\n",
       "      <td>green</td>\n",
       "      <td>0</td>\n",
       "      <td>23.0</td>\n",
       "      <td>23</td>\n",
       "      <td>23</td>\n",
       "    </tr>\n",
       "    <tr>\n",
       "      <th>1</th>\n",
       "      <td>#24</td>\n",
       "      <td>24</td>\n",
       "      <td>red</td>\n",
       "      <td>1</td>\n",
       "      <td>24.0</td>\n",
       "      <td>24</td>\n",
       "      <td>24</td>\n",
       "    </tr>\n",
       "    <tr>\n",
       "      <th>2</th>\n",
       "      <td>#18</td>\n",
       "      <td>18</td>\n",
       "      <td>yellow</td>\n",
       "      <td>0</td>\n",
       "      <td>18.0</td>\n",
       "      <td>18</td>\n",
       "      <td>18</td>\n",
       "    </tr>\n",
       "    <tr>\n",
       "      <th>3</th>\n",
       "      <td>#14</td>\n",
       "      <td>14</td>\n",
       "      <td>orange</td>\n",
       "      <td>2</td>\n",
       "      <td>14.0</td>\n",
       "      <td>14</td>\n",
       "      <td>14</td>\n",
       "    </tr>\n",
       "    <tr>\n",
       "      <th>4</th>\n",
       "      <td>#12</td>\n",
       "      <td>XYZ</td>\n",
       "      <td>purple</td>\n",
       "      <td>1</td>\n",
       "      <td>12.0</td>\n",
       "      <td>12</td>\n",
       "      <td>12</td>\n",
       "    </tr>\n",
       "    <tr>\n",
       "      <th>5</th>\n",
       "      <td>#10</td>\n",
       "      <td>XYZ</td>\n",
       "      <td>blue</td>\n",
       "      <td>0</td>\n",
       "      <td>10.0</td>\n",
       "      <td>10</td>\n",
       "      <td>10</td>\n",
       "    </tr>\n",
       "    <tr>\n",
       "      <th>6</th>\n",
       "      <td>#35</td>\n",
       "      <td>35</td>\n",
       "      <td>pink</td>\n",
       "      <td>2</td>\n",
       "      <td>35.0</td>\n",
       "      <td>35</td>\n",
       "      <td>35</td>\n",
       "    </tr>\n",
       "  </tbody>\n",
       "</table>\n",
       "</div>"
      ],
      "text/plain": [
       "  numbers nums  colors  other_column  numbers_loop numbers_str  \\\n",
       "0     #23   23   green             0          23.0          23   \n",
       "1     #24   24     red             1          24.0          24   \n",
       "2     #18   18  yellow             0          18.0          18   \n",
       "3     #14   14  orange             2          14.0          14   \n",
       "4     #12  XYZ  purple             1          12.0          12   \n",
       "5     #10  XYZ    blue             0          10.0          10   \n",
       "6     #35   35    pink             2          35.0          35   \n",
       "\n",
       "   numbers_numeric  \n",
       "0               23  \n",
       "1               24  \n",
       "2               18  \n",
       "3               14  \n",
       "4               12  \n",
       "5               10  \n",
       "6               35  "
      ]
     },
     "execution_count": 20,
     "metadata": {},
     "output_type": "execute_result"
    }
   ],
   "source": [
    "# use the _next_ valid observation to fill the missing data\n",
    "df.fillna(method=\"bfill\")"
   ]
  },
  {
   "cell_type": "code",
   "execution_count": 21,
   "id": "ea9cef28",
   "metadata": {
    "hide-output": false
   },
   "outputs": [
    {
     "data": {
      "text/html": [
       "<div>\n",
       "<style scoped>\n",
       "    .dataframe tbody tr th:only-of-type {\n",
       "        vertical-align: middle;\n",
       "    }\n",
       "\n",
       "    .dataframe tbody tr th {\n",
       "        vertical-align: top;\n",
       "    }\n",
       "\n",
       "    .dataframe thead th {\n",
       "        text-align: right;\n",
       "    }\n",
       "</style>\n",
       "<table border=\"1\" class=\"dataframe\">\n",
       "  <thead>\n",
       "    <tr style=\"text-align: right;\">\n",
       "      <th></th>\n",
       "      <th>numbers</th>\n",
       "      <th>nums</th>\n",
       "      <th>colors</th>\n",
       "      <th>other_column</th>\n",
       "      <th>numbers_loop</th>\n",
       "      <th>numbers_str</th>\n",
       "      <th>numbers_numeric</th>\n",
       "    </tr>\n",
       "  </thead>\n",
       "  <tbody>\n",
       "    <tr>\n",
       "      <th>0</th>\n",
       "      <td>#23</td>\n",
       "      <td>23</td>\n",
       "      <td>green</td>\n",
       "      <td>0</td>\n",
       "      <td>23.0</td>\n",
       "      <td>23</td>\n",
       "      <td>23</td>\n",
       "    </tr>\n",
       "    <tr>\n",
       "      <th>1</th>\n",
       "      <td>#24</td>\n",
       "      <td>24</td>\n",
       "      <td>red</td>\n",
       "      <td>1</td>\n",
       "      <td>24.0</td>\n",
       "      <td>24</td>\n",
       "      <td>24</td>\n",
       "    </tr>\n",
       "    <tr>\n",
       "      <th>2</th>\n",
       "      <td>#18</td>\n",
       "      <td>18</td>\n",
       "      <td>yellow</td>\n",
       "      <td>0</td>\n",
       "      <td>18.0</td>\n",
       "      <td>18</td>\n",
       "      <td>18</td>\n",
       "    </tr>\n",
       "    <tr>\n",
       "      <th>3</th>\n",
       "      <td>#14</td>\n",
       "      <td>14</td>\n",
       "      <td>orange</td>\n",
       "      <td>2</td>\n",
       "      <td>14.0</td>\n",
       "      <td>14</td>\n",
       "      <td>14</td>\n",
       "    </tr>\n",
       "    <tr>\n",
       "      <th>4</th>\n",
       "      <td>#12</td>\n",
       "      <td>14</td>\n",
       "      <td>purple</td>\n",
       "      <td>1</td>\n",
       "      <td>12.0</td>\n",
       "      <td>12</td>\n",
       "      <td>12</td>\n",
       "    </tr>\n",
       "    <tr>\n",
       "      <th>5</th>\n",
       "      <td>#10</td>\n",
       "      <td>XYZ</td>\n",
       "      <td>blue</td>\n",
       "      <td>0</td>\n",
       "      <td>10.0</td>\n",
       "      <td>10</td>\n",
       "      <td>10</td>\n",
       "    </tr>\n",
       "    <tr>\n",
       "      <th>6</th>\n",
       "      <td>#35</td>\n",
       "      <td>35</td>\n",
       "      <td>pink</td>\n",
       "      <td>2</td>\n",
       "      <td>35.0</td>\n",
       "      <td>35</td>\n",
       "      <td>35</td>\n",
       "    </tr>\n",
       "  </tbody>\n",
       "</table>\n",
       "</div>"
      ],
      "text/plain": [
       "  numbers nums  colors  other_column  numbers_loop numbers_str  \\\n",
       "0     #23   23   green             0          23.0          23   \n",
       "1     #24   24     red             1          24.0          24   \n",
       "2     #18   18  yellow             0          18.0          18   \n",
       "3     #14   14  orange             2          14.0          14   \n",
       "4     #12   14  purple             1          12.0          12   \n",
       "5     #10  XYZ    blue             0          10.0          10   \n",
       "6     #35   35    pink             2          35.0          35   \n",
       "\n",
       "   numbers_numeric  \n",
       "0               23  \n",
       "1               24  \n",
       "2               18  \n",
       "3               14  \n",
       "4               12  \n",
       "5               10  \n",
       "6               35  "
      ]
     },
     "execution_count": 21,
     "metadata": {},
     "output_type": "execute_result"
    }
   ],
   "source": [
    "# use the _previous_ valid observation to fill missing data\n",
    "df.fillna(method=\"ffill\")"
   ]
  },
  {
   "cell_type": "markdown",
   "id": "5748121b",
   "metadata": {},
   "source": [
    "We will see more examples of dealing with missing data in future\n",
    "chapters."
   ]
  },
  {
   "cell_type": "markdown",
   "id": "7747bc92",
   "metadata": {},
   "source": [
    "## Case Study\n",
    "\n",
    "We will now use data from an\n",
    "[article](https://www.nytimes.com/interactive/2015/02/17/upshot/what-do-people-actually-order-at-chipotle.html)\n",
    "written by The Upshot at the NYTimes.\n",
    "\n",
    "This data has order information from almost 2,000 Chipotle orders and\n",
    "includes information on what was ordered and how much it cost."
   ]
  },
  {
   "cell_type": "code",
   "execution_count": 22,
   "id": "3f9d6808",
   "metadata": {
    "hide-output": false
   },
   "outputs": [
    {
     "data": {
      "text/html": [
       "<div>\n",
       "<style scoped>\n",
       "    .dataframe tbody tr th:only-of-type {\n",
       "        vertical-align: middle;\n",
       "    }\n",
       "\n",
       "    .dataframe tbody tr th {\n",
       "        vertical-align: top;\n",
       "    }\n",
       "\n",
       "    .dataframe thead th {\n",
       "        text-align: right;\n",
       "    }\n",
       "</style>\n",
       "<table border=\"1\" class=\"dataframe\">\n",
       "  <thead>\n",
       "    <tr style=\"text-align: right;\">\n",
       "      <th></th>\n",
       "      <th>Unnamed: 0</th>\n",
       "      <th>order_id</th>\n",
       "      <th>quantity</th>\n",
       "      <th>item_name</th>\n",
       "      <th>choice_description</th>\n",
       "      <th>item_price</th>\n",
       "    </tr>\n",
       "  </thead>\n",
       "  <tbody>\n",
       "    <tr>\n",
       "      <th>0</th>\n",
       "      <td>0</td>\n",
       "      <td>1</td>\n",
       "      <td>1</td>\n",
       "      <td>Chips and Fresh Tomato Salsa</td>\n",
       "      <td>NaN</td>\n",
       "      <td>$2.39</td>\n",
       "    </tr>\n",
       "    <tr>\n",
       "      <th>1</th>\n",
       "      <td>1</td>\n",
       "      <td>1</td>\n",
       "      <td>1</td>\n",
       "      <td>Izze</td>\n",
       "      <td>[Clementine]</td>\n",
       "      <td>$3.39</td>\n",
       "    </tr>\n",
       "    <tr>\n",
       "      <th>2</th>\n",
       "      <td>2</td>\n",
       "      <td>1</td>\n",
       "      <td>1</td>\n",
       "      <td>Nantucket Nectar</td>\n",
       "      <td>[Apple]</td>\n",
       "      <td>$3.39</td>\n",
       "    </tr>\n",
       "    <tr>\n",
       "      <th>3</th>\n",
       "      <td>3</td>\n",
       "      <td>1</td>\n",
       "      <td>1</td>\n",
       "      <td>Chips and Tomatillo-Green Chili Salsa</td>\n",
       "      <td>NaN</td>\n",
       "      <td>$2.39</td>\n",
       "    </tr>\n",
       "    <tr>\n",
       "      <th>4</th>\n",
       "      <td>4</td>\n",
       "      <td>2</td>\n",
       "      <td>2</td>\n",
       "      <td>Chicken Bowl</td>\n",
       "      <td>[Tomatillo-Red Chili Salsa (Hot), [Black Beans...</td>\n",
       "      <td>$16.98</td>\n",
       "    </tr>\n",
       "  </tbody>\n",
       "</table>\n",
       "</div>"
      ],
      "text/plain": [
       "   Unnamed: 0  order_id  quantity                              item_name  \\\n",
       "0           0         1         1           Chips and Fresh Tomato Salsa   \n",
       "1           1         1         1                                   Izze   \n",
       "2           2         1         1                       Nantucket Nectar   \n",
       "3           3         1         1  Chips and Tomatillo-Green Chili Salsa   \n",
       "4           4         2         2                           Chicken Bowl   \n",
       "\n",
       "                                  choice_description item_price  \n",
       "0                                                NaN     $2.39   \n",
       "1                                       [Clementine]     $3.39   \n",
       "2                                            [Apple]     $3.39   \n",
       "3                                                NaN     $2.39   \n",
       "4  [Tomatillo-Red Chili Salsa (Hot), [Black Beans...    $16.98   "
      ]
     },
     "execution_count": 22,
     "metadata": {},
     "output_type": "execute_result"
    }
   ],
   "source": [
    "url = \"https://datascience.quantecon.org/assets/data/chipotle_raw.csv.zip\"\n",
    "chipotle = pd.read_csv(url)\n",
    "chipotle.head()"
   ]
  },
  {
   "cell_type": "markdown",
   "id": "a7d26519",
   "metadata": {},
   "source": [
    "## Exercise\n",
    "\n",
    "See exercise 4 in the [exercise list](#pd-cln-ex)."
   ]
  },
  {
   "cell_type": "markdown",
   "id": "7dd21537",
   "metadata": {},
   "source": [
    "## Appendix: Performance of `.str` Methods\n",
    "\n",
    "Let’s repeat the “remove the `#`” example from above, but this time on\n",
    "a much larger dataset."
   ]
  },
  {
   "cell_type": "code",
   "execution_count": 23,
   "id": "0611c099",
   "metadata": {
    "hide-output": false
   },
   "outputs": [
    {
     "data": {
      "text/html": [
       "<div>\n",
       "<style scoped>\n",
       "    .dataframe tbody tr th:only-of-type {\n",
       "        vertical-align: middle;\n",
       "    }\n",
       "\n",
       "    .dataframe tbody tr th {\n",
       "        vertical-align: top;\n",
       "    }\n",
       "\n",
       "    .dataframe thead th {\n",
       "        text-align: right;\n",
       "    }\n",
       "</style>\n",
       "<table border=\"1\" class=\"dataframe\">\n",
       "  <thead>\n",
       "    <tr style=\"text-align: right;\">\n",
       "      <th></th>\n",
       "      <th>floats</th>\n",
       "      <th>strings</th>\n",
       "    </tr>\n",
       "  </thead>\n",
       "  <tbody>\n",
       "    <tr>\n",
       "      <th>0</th>\n",
       "      <td>58.76</td>\n",
       "      <td>58.76%</td>\n",
       "    </tr>\n",
       "    <tr>\n",
       "      <th>1</th>\n",
       "      <td>20.62</td>\n",
       "      <td>20.62%</td>\n",
       "    </tr>\n",
       "    <tr>\n",
       "      <th>2</th>\n",
       "      <td>46.14</td>\n",
       "      <td>46.14%</td>\n",
       "    </tr>\n",
       "    <tr>\n",
       "      <th>3</th>\n",
       "      <td>27.98</td>\n",
       "      <td>27.98%</td>\n",
       "    </tr>\n",
       "    <tr>\n",
       "      <th>4</th>\n",
       "      <td>21.75</td>\n",
       "      <td>21.75%</td>\n",
       "    </tr>\n",
       "  </tbody>\n",
       "</table>\n",
       "</div>"
      ],
      "text/plain": [
       "   floats strings\n",
       "0   58.76  58.76%\n",
       "1   20.62  20.62%\n",
       "2   46.14  46.14%\n",
       "3   27.98  27.98%\n",
       "4   21.75  21.75%"
      ]
     },
     "execution_count": 23,
     "metadata": {},
     "output_type": "execute_result"
    }
   ],
   "source": [
    "import numpy as np\n",
    "test = pd.DataFrame({\"floats\": np.round(100*np.random.rand(100000), 2)})\n",
    "test[\"strings\"] = test[\"floats\"].astype(str) + \"%\"\n",
    "test.head()"
   ]
  },
  {
   "cell_type": "code",
   "execution_count": 24,
   "id": "8f2c4083",
   "metadata": {
    "hide-output": false
   },
   "outputs": [
    {
     "name": "stdout",
     "output_type": "stream",
     "text": [
      "CPU times: total: 10.7 s\n",
      "Wall time: 15.8 s\n"
     ]
    }
   ],
   "source": [
    "%%time\n",
    "\n",
    "for row in test.iterrows():\n",
    "    index_value, column_values = row\n",
    "    clean_number = column_values[\"strings\"].replace(\"%\", \"\")\n",
    "    test.at[index_value, \"numbers_loop\"] = clean_number"
   ]
  },
  {
   "cell_type": "code",
   "execution_count": 25,
   "id": "873e61b3",
   "metadata": {
    "hide-output": false
   },
   "outputs": [
    {
     "name": "stdout",
     "output_type": "stream",
     "text": [
      "CPU times: total: 62.5 ms\n",
      "Wall time: 142 ms\n"
     ]
    }
   ],
   "source": [
    "%%time\n",
    "test[\"numbers_str_method\"] = test[\"strings\"].str.replace(\"%\", \"\")"
   ]
  },
  {
   "cell_type": "code",
   "execution_count": 26,
   "id": "f6e5c4ff",
   "metadata": {
    "hide-output": false
   },
   "outputs": [
    {
     "data": {
      "text/plain": [
       "True"
      ]
     },
     "execution_count": 26,
     "metadata": {},
     "output_type": "execute_result"
    }
   ],
   "source": [
    "test[\"numbers_str_method\"].equals(test[\"numbers_loop\"])"
   ]
  },
  {
   "cell_type": "markdown",
   "id": "101bd396",
   "metadata": {},
   "source": [
    "We got the exact same result in a fraction of the time!\n",
    "\n",
    "\n",
    "<a id='pd-cln-ex'></a>"
   ]
  },
  {
   "cell_type": "markdown",
   "id": "c0c11d80",
   "metadata": {},
   "source": [
    "## Exercises"
   ]
  },
  {
   "cell_type": "markdown",
   "id": "0a735a96",
   "metadata": {},
   "source": [
    "### Exercise 1\n",
    "\n",
    "Convert the string below into a number."
   ]
  },
  {
   "cell_type": "code",
   "execution_count": 28,
   "id": "8cbbfc92",
   "metadata": {
    "hide-output": false
   },
   "outputs": [],
   "source": [
    "c2n = \"#39\""
   ]
  },
  {
   "cell_type": "code",
   "execution_count": 29,
   "id": "03e08d00",
   "metadata": {},
   "outputs": [
    {
     "data": {
      "text/plain": [
       "39"
      ]
     },
     "execution_count": 29,
     "metadata": {},
     "output_type": "execute_result"
    }
   ],
   "source": [
    "c2n[1:]\n",
    "int(c2n[1:])"
   ]
  },
  {
   "cell_type": "markdown",
   "id": "3351b79c",
   "metadata": {},
   "source": [
    "([back to text](#pd-cln-dir1))"
   ]
  },
  {
   "cell_type": "markdown",
   "id": "64393a66",
   "metadata": {},
   "source": [
    "### Exercise 2\n",
    "\n",
    "Make a new column called `colors_upper` that contains the elements of\n",
    "`colors` with all uppercase letters.\n",
    "\n",
    "([back to text](#pd-cln-dir2))"
   ]
  },
  {
   "cell_type": "code",
   "execution_count": 30,
   "id": "5efc1d07",
   "metadata": {},
   "outputs": [
    {
     "name": "stdout",
     "output_type": "stream",
     "text": [
      "  numbers nums  colors  other_column  numbers_loop numbers_str  \\\n",
      "0     #23   23   green             0          23.0          23   \n",
      "1     #24   24     red             1          24.0          24   \n",
      "2     #18   18  yellow             0          18.0          18   \n",
      "3     #14   14  orange             2          14.0          14   \n",
      "4     #12  NaN  purple             1          12.0          12   \n",
      "5     #10  XYZ    blue             0          10.0          10   \n",
      "6     #35   35    pink             2          35.0          35   \n",
      "\n",
      "   numbers_numeric colors_upper  \n",
      "0               23        GREEN  \n",
      "1               24          RED  \n",
      "2               18       YELLOW  \n",
      "3               14       ORANGE  \n",
      "4               12       PURPLE  \n",
      "5               10         BLUE  \n",
      "6               35         PINK  \n"
     ]
    }
   ],
   "source": [
    "pd.DataFrame({'colors': ['red', 'green', 'blue', 'yellow']})\n",
    "\n",
    "df['colors_upper'] = df['colors'].str.upper()\n",
    "\n",
    "print(df)"
   ]
  },
  {
   "cell_type": "markdown",
   "id": "4eb4f178",
   "metadata": {},
   "source": [
    "### Exercise 3\n",
    "\n",
    "Convert the column `\"nums\"` to a numeric type using `pd.to_numeric` and\n",
    "save it to the DataFrame as `\"nums_tonumeric\"`.\n",
    "\n",
    "Notice that there is a missing value, and a value that is not a number.\n",
    "\n",
    "Look at the documentation for `pd.to_numeric` and think about how to\n",
    "overcome this.\n",
    "\n",
    "Think about why this could be a bad idea of used without\n",
    "knowing what your data looks like. (Think about what happens when you\n",
    "apply it to the `\"numbers\"` column before replacing the `\"#\"`.)\n",
    "\n",
    "([back to text](#pd-cln-dir3))"
   ]
  },
  {
   "cell_type": "code",
   "execution_count": 31,
   "id": "26a493fa",
   "metadata": {},
   "outputs": [
    {
     "name": "stdout",
     "output_type": "stream",
     "text": [
      "       nums  nums_tonumeric\n",
      "0        42           42.00\n",
      "1      3.14            3.14\n",
      "2   missing             NaN\n",
      "3  #invalid             NaN\n"
     ]
    }
   ],
   "source": [
    "df = pd.DataFrame({'nums': ['42', '3.14', 'missing', '#invalid']})\n",
    "df['nums_tonumeric'] = pd.to_numeric(df['nums'], errors='coerce')\n",
    "print(df)"
   ]
  },
  {
   "cell_type": "markdown",
   "id": "6f6799ce",
   "metadata": {},
   "source": [
    "### Exercise 4\n",
    "\n",
    "We’d like you to use this data to answer the following questions.\n",
    "\n",
    "- What is the average price of an item with chicken?  \n",
    "- What is the average price of an item with steak?  \n",
    "- Did chicken or steak produce more revenue (total)?  \n",
    "- How many missing items are there in this dataset? How many missing\n",
    "  items in each column?  \n",
    "\n",
    "\n",
    "Before you will be able to do any of these things you will need to\n",
    "make sure the `item_price` column has a numeric `dtype` (probably\n",
    "float).\n",
    "\n",
    "([back to text](#pd-cln-dir4))"
   ]
  },
  {
   "cell_type": "code",
   "execution_count": 45,
   "id": "970bcf84",
   "metadata": {},
   "outputs": [
    {
     "name": "stdout",
     "output_type": "stream",
     "text": [
      "Average price of items with chicken: 7.583333333333333\n",
      "Average price of items with steak: 9.5\n",
      "Total revenue from chicken items: 22.75\n",
      "Total revenue from steak items: 28.5\n",
      "Number of missing items: 0\n",
      "Number of missing values in 'item_price' column: 0\n"
     ]
    },
    {
     "name": "stderr",
     "output_type": "stream",
     "text": [
      "C:\\Users\\gisse\\AppData\\Local\\Temp\\ipykernel_13300\\60470692.py:5: FutureWarning: The default value of regex will change from True to False in a future version. In addition, single character regular expressions will *not* be treated as literal strings when regex=True.\n",
      "  df['item_price'] = df['item_price'].str.replace('$', '').astype(float)\n"
     ]
    }
   ],
   "source": [
    "import pandas as pd\n",
    "\n",
    "df = pd.DataFrame(data)\n",
    "\n",
    "df['item_price'] = df['item_price'].str.replace('$', '').astype(float)\n",
    "\n",
    "average_pricechicken = df[df['item_name'].str.contains('Chicken')]['item_price'].mean()\n",
    "average_pricesteak = df[df['item_name'].str.contains('Steak')]['item_price'].mean()\n",
    "\n",
    "total_revenuechicken = df[df['item_name'].str.contains('Chicken')]['item_price'].sum()\n",
    "total_revenuesteak = df[df['item_name'].str.contains('Steak')]['item_price'].sum()\n",
    "\n",
    "missing_items = df['item_name'].isnull().sum()\n",
    "missing_itemprice = df['item_price'].isnull().sum()\n",
    "\n",
    "print(\"Average price of items with chicken:\", average_pricechicken)\n",
    "print(\"Average price of items with steak:\", average_pricesteak)\n",
    "print(\"Total revenue from chicken items:\", total_revenuechicken)\n",
    "print(\"Total revenue from steak items:\", total_revenuesteak)\n",
    "print(\"Number of missing items:\", missing_items)\n",
    "print(\"Number of missing values in 'item_price' column:\", missing_itemprice)\n",
    "\n"
   ]
  },
  {
   "cell_type": "code",
   "execution_count": null,
   "id": "984a1ee8",
   "metadata": {},
   "outputs": [],
   "source": []
  }
 ],
 "metadata": {
  "date": 1689807040.641974,
  "filename": "data_clean.md",
  "kernelspec": {
   "display_name": "Python 3 (ipykernel)",
   "language": "python",
   "name": "python3"
  },
  "language_info": {
   "codemirror_mode": {
    "name": "ipython",
    "version": 3
   },
   "file_extension": ".py",
   "mimetype": "text/x-python",
   "name": "python",
   "nbconvert_exporter": "python",
   "pygments_lexer": "ipython3",
   "version": "3.11.4"
  },
  "title": "Cleaning Data"
 },
 "nbformat": 4,
 "nbformat_minor": 5
}
